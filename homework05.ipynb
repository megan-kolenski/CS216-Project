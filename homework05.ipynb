{
 "cells": [
  {
   "cell_type": "markdown",
   "metadata": {},
   "source": [
    "# Homework 05\n",
    "In this exercise, you will demonstrate your learning by solving probability problems. Many of these will be math problems. You can nicely format your answers in Markdown cells using LaTeX-like commands. \n",
    "\n",
    "Some particular LaTeX commands you might find useful include:\n",
    "- To display an inline math expression, enclose the content in single dollar signs, e.g., $x^2+4=8$ (Double click to display).\n",
    "- To display a single-line centered math expression, enclose the content in double dollar signs like $$P(X > 5) = \\frac{1}{6}.$$\n",
    "- To display a multi-line math expression, use `\\begin{aligned}` and `\\end{aligned}`, use `\\\\` to change lines, put `&` wherever you want the lines to align, and enclose all this in single dollar signs. See the example below. Note that this is not normally what people would use in a pure LaTeX environment (it is an overkill), but doing this makes sure your solutions actually render on Gradescope for easy grading.\n",
    "- Another way to display multi-line math expressions is by enclosing the equation inside double dollar signs. Use `\\\\` to change lines, `&` is not required here. See example below.\n",
    "- To write a fraction, use `\\frac{numerator}{denominator}` like $\\frac{3}{4}$.\n",
    "- To write set intersection and union, use `\\cap` and `\\cup` respectively, like $A \\cap B$ and $A \\cup B$.\n",
    "- To write a bar over something (like a set complement), use `\\overline{}` like in $\\overline{E}$.\n",
    "- To write a subscript or superscript, use `_{}` or `^{}` as in $X_{n}$ or $X^{2}$.\n",
    "- To write a sum or product, use `\\sum` or `\\prod` as in $\\sum_{i=1}^{n} X_i$ or $\\prod_{i=1}^{n} X_i$.\n",
    "- To write text inside math expressions, use `\\text{}` as in $P(D \\text{ is even})$.\n",
    "- You can double click on this cell to get an example of the syntax of the commands mentioned above.\n",
    "\n",
    "If you are new to LaTeX, see the [overleaf documentation for mathematical expressions](https://www.overleaf.com/learn/latex/mathematical_expressions). Note that not all LaTeX commands work in Markdown cells, as they are technically not actual LaTeX environments. Hence double check in Gradescope after submission.\n",
    "\n",
    "## Be careful while using LaTeX\n",
    "\n",
    "- Some of common LaTeX commands like `\\begin{equation}`, `\\begin{align}` do not render in Gradescope. Do cross-check your code after you submit your Homework in Gradescope.\n",
    "- Even if you are using `\\begin{aligned}` and `\\end{aligned}`, write everything inside single dollar signs.\n",
    "- Gradescope mostly renders all LaTeX/Math equations written inside single dollar signs. For example: $\\sum_{k=1}^n x_n^2$.\n",
    "- Don't use dollar sign to indicate US Dollars, use USD/dollars/unit money instead. Gradescope sees dollar sign as math syntax and will render your work poorly.\n",
    "\n",
    "## Show your work!\n",
    "Show your work and/or briefly explain your answers. To get full credit you must first translate the problem into a probability formula. See the worked examples for how to best show your work. In general you will not receive full credit for numeric answers with no accompanying work or justification (math, code, explanation), and we can't give you partial credit if you don't show your work.\n",
    "\n",
    "For example, question 1.4 in the worked examples has you calculate the probability of \"A die roll greater than or equal to 3 or a coin toss of tails (possibly both).\" A full credit answer to this would be:\n",
    "\n",
    "#### Using `\\begin{aligned}` and `\\end{aligned}` inside single dollar signs\n",
    "\n",
    "$\\begin{aligned}\n",
    "P(D \\geq 3 \\cup C = \\text{tails}) &= P(D \\geq 3) + P(C = \\text{tails}) - P(D \\geq 3 \\cap C = \\text{tails}) \\\\\n",
    "&= \\frac{2}{3} + \\frac{1}{2} - \\frac{2}{3} \\times \\frac{1}{2} = \\mathbf{\\frac{5}{6} \\approx 0.83}.\n",
    "\\end{aligned}$\n",
    "\n",
    "#### Using double dollar signs\n",
    "\n",
    "$$\n",
    "P(D \\geq 3 \\cup C = \\text{tails}) = P(D \\geq 3) + P(C = \\text{tails}) - P(D \\geq 3 \\cap C = \\text{tails}) \\\\\n",
    "= \\frac{2}{3} + \\frac{1}{2} - \\frac{2}{3} \\times \\frac{1}{2} = \\mathbf{\\frac{5}{6} \\approx 0.83}.\n",
    "$$\n",
    "\n",
    "## Note\n",
    "\n",
    "##### If your answer renders poorly on Gradescope, you may lose points. Please check your code rendering after you submit your Homework in Gradescope."
   ]
  },
  {
   "cell_type": "markdown",
   "metadata": {
    "deletable": false,
    "editable": false
   },
   "source": [
    "## Question 1 (2 points auto-graded, 2 points manually graded per subquestion)\n",
    "Suppose 600 individuals are on a cruise. Of the individuals:\n",
    "- 300 go snorkling,\n",
    "- 450 have lunch at the restaurant,\n",
    "- 200 go dancing,\n",
    "- 200 go snorkling and have lunch at the restaurant,\n",
    "- 100 go snorkling and go dancing,\n",
    "- 100 have lunch at the restaurant and go dancing,\n",
    "- 50 go snorkling, have lunch at the restaurant, and go dancing.\n",
    "\n",
    "For each of the following, compute the probability that an individual chosen uniformly at random:\n",
    "1. goes snorkling and has lunch at the restaurant,\n",
    "2. does not have lunch at the restaurant,\n",
    "3. goes snorkling or goes dancing,\n",
    "4. has lunch at the restaurant but does not go snorkling, \n",
    "5. goes dancing given that they have lunch at the restaurant.\n",
    "\n",
    "For the autograder, in the code cell, put question 1's answer in the variable `q1_1`, question 2's answer in `q1_2`, and so on. Show your work in the Markdown cell.\n"
   ]
  },
  {
   "cell_type": "code",
   "execution_count": 1,
   "metadata": {
    "otter": {
     "tests": [
      "q1"
     ]
    },
    "tags": []
   },
   "outputs": [],
   "source": [
    "# Code for question 1 (or can use a hand calculator and show work)\n",
    "\n",
    "q1_1 = 1/3 #(200/600)\n",
    "q1_2 = .25 #1 - 450/600\n",
    "q1_3 = 2/3 #1 - (300/600) * (400/600)\n",
    "q1_4 = 5/12 #(450-200)/600\n",
    "q1_5 = 2/9 #100/450\n"
   ]
  },
  {
   "cell_type": "markdown",
   "metadata": {
    "deletable": false,
    "editable": false
   },
   "source": [
    "<!-- BEGIN QUESTION -->\n",
    "\n",
    "## Answer 1"
   ]
  },
  {
   "cell_type": "markdown",
   "metadata": {},
   "source": [
    "```latex\n",
    "\\[\n",
    "1 = \\frac{200}{600}\n",
    "\\]\n",
    "\n",
    "\\[\n",
    "2 = \\frac{450}{600}\n",
    "\\]\n",
    "\n",
    "\\[\n",
    "3 = \\left(\\frac{300}{600} \\right) \\times \\left(\\frac{400}{600} \\right)\n",
    "\\]\n",
    "\n",
    "\\[\n",
    "4 = \\frac{450 - 200}{600}\n",
    "\\]\n",
    "\n",
    "\\[\n",
    "5 = \\frac{100}{450}\n",
    "\\]\n",
    "``` "
   ]
  },
  {
   "cell_type": "markdown",
   "metadata": {
    "deletable": false,
    "editable": false
   },
   "source": [
    "<!-- END QUESTION -->\n",
    "\n",
    "## Question 2 (2 points auto-graded, 2 points manually graded per subquestion)\n",
    "\n",
    "1. Consider a rare genetic disorder that occurs with 5% probability. Individuals with the genetic disorder have a 60% probability to develop a particular medical condition whereas individuals without the disorder only have a 10% probability to develop the medical condition. What is the probably that a random individual from the entire population will develop the medical condition?\n",
    "\n",
    "\n",
    "2. Suppose that for a random student, there is an 80% probability of passing the final exam, a 90% probability of passing the course, and a 99% probability of passing the course given that the student passes the final exam. Given that a student passed the course, what is the probability that the student did not pass the final exam?  \n",
    "\n",
    "\n",
    "3. Suppose that 10% of the cars produced on an assembly line have some defect. The car manufacturer has a test for checking for defects. For cars with defects, it correctly finds the defect with 99% probability. However, for cars without defects, the test incorrectly reports a defect with 5% probability.  What is the probability that a car has no defect given that the test reports that it has a defect?\n",
    "\n",
    "For the autograder, in the code cell, put question 1's answer in the variable `q2_1` and so on. Show your work in the Markdown cell.\n"
   ]
  },
  {
   "cell_type": "code",
   "execution_count": 2,
   "metadata": {
    "otter": {
     "tests": [
      "q2"
     ]
    },
    "tags": []
   },
   "outputs": [],
   "source": [
    "# Code for question 2 (or can use a hand calculator and show work)\n",
    "\n",
    "q2_1 = .125\n",
    "q2_2 = 0.12\n",
    "q2_3 = .3125"
   ]
  },
  {
   "cell_type": "markdown",
   "metadata": {
    "deletable": false,
    "editable": false
   },
   "source": [
    "<!-- BEGIN QUESTION -->\n",
    "\n",
    "## Answer 2"
   ]
  },
  {
   "cell_type": "markdown",
   "metadata": {},
   "source": [
    "```latex\n",
    "\\[\n",
    "1 = (0.05 \\times 0.6) + (0.95 \\times 0.1)\n",
    "\\]\n",
    "\n",
    "\\[\n",
    "2 = 1 - \\frac{0.8 \\times 0.99}{0.9}\n",
    "\\]\n",
    "\n",
    "\\[\n",
    "3 = \\frac{0.9 \\times 0.05}{(0.1 \\times 0.99) + (0.9 \\times 0.05)}\n",
    "\\]\n",
    "```"
   ]
  },
  {
   "cell_type": "markdown",
   "metadata": {
    "deletable": false,
    "editable": false
   },
   "source": [
    "<!-- END QUESTION -->\n",
    "\n",
    "## Question 3 (2 points auto-graded, 2 points manually graded per subquestion)\n",
    "1. Suppose you are playing a game of chance. You roll a single fair 6-sided die. If the result is odd, you win a number of dollars equal to the die roll. If the result is even, you lose a number of dollars equal to the die roll. What is the expected number of dollars you will win or lose playing this game once? \n",
    "\n",
    "\n",
    "2. You play another game of chance. It proceeds in three rounds. In each round you roll a single fair 6-sided die. In the first round, if you roll a 1 you get 1 dollar. In the second round if you roll a 2 you get 2 dollars. In the third round if you roll a 3 you get 3 dollars. If at the end you have not won any of the three rounds, you lose 3 dollars. What is the expected number of dollars you will win or lose playing this game once?\n",
    "\n",
    "For the autograder, in the code cell, put question 1's answer in the variable `q3_1` and question 2's answer in `q3_2`. Show your work in the Markdown cell.\n"
   ]
  },
  {
   "cell_type": "code",
   "execution_count": 3,
   "metadata": {
    "otter": {
     "tests": [
      "q3"
     ]
    },
    "tags": []
   },
   "outputs": [],
   "source": [
    "# Code for question 2 (or can use a hand calculator and show work)\n",
    "\n",
    "q3_1 = -0.5\n",
    "q3_2 = -0.736"
   ]
  },
  {
   "cell_type": "markdown",
   "metadata": {
    "deletable": false,
    "editable": false
   },
   "source": [
    "<!-- BEGIN QUESTION -->\n",
    "\n",
    "## Answer 3"
   ]
  },
  {
   "cell_type": "markdown",
   "metadata": {},
   "source": [
    "```latex\n",
    "\\[\n",
    "E_1 = \\left(\\frac{1}{6} \\right) + \\left(\\frac{1}{6} \\times 3 \\right) + \\left(\\frac{1}{6} \\times 5 \\right) + \\left(\\frac{1}{6} \\times -2 \\right) + \\left(\\frac{1}{6} \\times -4 \\right) + \\left(\\frac{1}{6} \\times -6 \\right)\n",
    "\\]\n",
    "\n",
    "\\[\n",
    "E_2 = \\left(\\frac{1}{6} \\right) + \\left(\\frac{1}{6} \\times 2 \\right) + \\left(\\frac{1}{6} \\times 3 \\right) + \\left(\\frac{125}{216} \\times -3 \\right)\n",
    "\\]\n",
    "```"
   ]
  },
  {
   "cell_type": "markdown",
   "metadata": {
    "deletable": false,
    "editable": false
   },
   "source": [
    "<!-- END QUESTION -->\n",
    "\n",
    "## Question 4 (2 points auto-graded, 2 points manually graded)\n",
    "Suppose you toss a coin $n$ times and observe that 51% of the time the result is heads. Assuming $n$ is large enough to use the central limit theorem, how large would $n$ need to be before you could conclude that the probability that the coin is fair (50/50 percent chance of heads or tails) is at most 5%? \n",
    "\n",
    "*Hint: It may help to define an appropriate random variable whose expectation is the quantity of interest based on a fair coin toss and calculate its variance.*\n",
    "\n",
    "For the autograder, in the code cell, put your answer in the varialbe `q4`. Show your work in the Markdown cell.\n"
   ]
  },
  {
   "cell_type": "code",
   "execution_count": 4,
   "metadata": {
    "otter": {
     "tests": [
      "q4"
     ]
    },
    "tags": []
   },
   "outputs": [],
   "source": [
    "# Code for question 4 (or can use a hand calculator and show work)\n",
    "\n",
    "q4 = 10000"
   ]
  },
  {
   "cell_type": "markdown",
   "metadata": {
    "deletable": false,
    "editable": false
   },
   "source": [
    "<!-- BEGIN QUESTION -->\n",
    "\n",
    "## Answer 4"
   ]
  },
  {
   "cell_type": "markdown",
   "metadata": {},
   "source": [
    "_ By applying the central limit theorem, the standard deviation of the sample proportion is 𝜎 0.5*0.5/n.To conclude that the probability of the coin being fair is at most 5%, we need (0.51 − 0.50)/𝜎 ≥ 1.645, which leads to n being around 10,000._"
   ]
  },
  {
   "cell_type": "markdown",
   "metadata": {
    "deletable": false,
    "editable": false
   },
   "source": [
    "<!-- END QUESTION -->\n",
    "\n",
    "## Question 5 (2 points auto-graded, 2 points manually graded)\n",
    "Suppose you need to take the C1 bus to East campus, and the mean waiting time for the bus at the Chapel is 10 minutes. What is the upper bound probability that you wait for more than 35 minutes for the bus to arrive?\n",
    "\n",
    "For the autograder, in the code cell, put your answer in the variable `q5`. Show your work in the Markdown cell."
   ]
  },
  {
   "cell_type": "code",
   "execution_count": 5,
   "metadata": {
    "otter": {
     "tests": [
      "q5"
     ]
    },
    "tags": []
   },
   "outputs": [],
   "source": [
    "# Code for question 5(or can use a hand calculator and show work)\n",
    "\n",
    "q5 = .2857"
   ]
  },
  {
   "cell_type": "markdown",
   "metadata": {},
   "source": [
    "_Using Markov's inequality, which states that P(T≥a) ≤ E(T)]/a, we set E(T) = 10 minutes and a = 35 minutes, giving an answer of 10/35._"
   ]
  },
  {
   "cell_type": "markdown",
   "metadata": {
    "deletable": false,
    "editable": false
   },
   "source": [
    "<!-- END QUESTION -->\n",
    "\n",
    "## Question 6 (2 points auto-graded, 3 points manually graded)\n",
    "In the US presidential election, there are typically two candidates: a Democratic candidate and a Republican candidate. Each state has a number of electoral college votes. The candidate who wins the most votes in a state receives all of the electoral college votes for that particular state (there are a couple of exceptions, but to keep things simple we will assume this is how it works for all states). A candidate who wins at least 270 electoral college votes wins the national election. \n",
    "\n",
    "### The Data\n",
    "Below we import the `polls.csv` dataset describing the 2020 US presidential election and preview the first few rows. For each of the 50 states in the USA plus Washington D.C. (which has electoral college votes like a state), the dataset records:\n",
    "\n",
    "- `d_percent`: The percent of polled voters indicating they will vote for the Democratic candidate in the 2020 presidential election.\n",
    "\n",
    "- `r_percent`: The percent of polled voters indicating they will vote for the Republican candidate in the 2020 presidential election.\n",
    "\n",
    "- `ec_weight`: The number of electoral college votes controlled by the particular state.  \n",
    "\n",
    "### What you will do\n",
    "**In this question, you will write a Monte Carlo simulation to understand the probabilities of the following three events.** This is based roughly on the idea of computational models for predicting election outcomes such as those you may have seen recently in the news. \n",
    "\n",
    "- $D$: the Democratic candidate wins at least 270 electoral college votes (and thus the presidential election);\n",
    "\n",
    "- $R$: the Republican candidate wins at least 270 electoral college votes (and thus the presidential election); \n",
    "\n",
    "- $U$: neither candidate gets 270 electoral college votes and the election is undecided.\n",
    "\n",
    "### How you will do it\n",
    "To do so, model the uncertainty in the poll numbers as follows. For each simulation:\n",
    "\n",
    "1. For each state independently draw 0-mean normally distributed random `noise` for a given standard deviation estimate $\\sigma$. You can do so, for example, using [numpy.random.normal](https://numpy.org/doc/stable/reference/random/generated/numpy.random.normal.html). This reflects the assumption that the poll numbers are not certain and could vary in either direction by one or two standard deviations.\n",
    "\n",
    "\n",
    "2. Add `noise` (independently for each state) to `d_percent` and subtract `noise` from `r_percent`. So if you get `noise = 1.5`, `d_percent = 42`, and `r_percent = 57` you would get `43.5` for the new `d_percent` and `55.5` for the new `r_percent`. \n",
    "\n",
    "Then for a given simulation you can check which of $D$, $R$, or $U$ occur by checking, for each state, which candidate gets a larger share of the vote, and adding up their electoral votes accross all of the states.\n",
    "\n",
    "Make sure that **each simulation starts with the original values** from the `polls` dataset, not the results from the previous simulation. \n",
    "\n",
    "Code the simulation and then **run 10,000 simulations for each of the following values of $\\sigma$: 1, 5, and 10. For each simulation, record which of $D$, $R$, and $U$ occurred.** Summarize the results by creating three lists `q6_1`, `q6_5`, and `q6_10`, one for each $\\sigma$. More specifically, `q6_1 = [q6_1d, q6_1r, q6_1u]`, where `q6_1d` is the number of simulations where $\\sigma = 1$ and $D$ happened, `q6_1r` is the number of simulations where $\\sigma = 1$ and $R$ happened, and `q6_1u` is the number of simulations where $\\sigma = 1$ and $U$ happened, and so on. You should therefore have a total of 9 values in these 3 lists.\n",
    "\n",
    "It may take a few seconds for your simulations to run, but if they are running for minutes, you are likely writing inefficient loops instead of taking advantage of efficient Pandas and Numpy operations. You will need one loop over the 10,000 simulations but should not need any others. You will **lose manual grading points** if you use a `for` loop to index into the dataframe.\n",
    "\n",
    "*Hint: We recommend that you write the following functions:*\n",
    "\n",
    "1. *A function that takes a `DataFrame` of votes where the noise has already been added and returns who has won based on the electoral college votes per state.*\n",
    "\n",
    "\n",
    "2. *A function that simulates an election by taking a `DataFrame` of vote/poll data and a standard deviation and adds noise.*\n",
    "\n",
    "\n",
    "3. *A function that runs all the simulations for a specific standard deviation.*\n",
    "\n",
    "*It'll make your code easier to write and understand.*\n",
    "\n",
    "### Submission Instructions\n",
    "For the sake of consistency and easy debugging, we recommend that you do the following when you are ready to submit:\n",
    "\n",
    "1. Surround your code with triple quotes (e.g. `''' <code here in many lines> '''`, see example below).\n",
    "\n",
    "\n",
    "2. Outside the triple quotes, manually assign the values of `q6_1`, `q6_5`, and `q6_10` with the values of the last time you ran your code.\n",
    "\n",
    "This keeps your code (as comments) in your notebook so that it can be manually graded, and also prevents the autograder from timing out and giving you a 0. You do not need to write anything in a Markdown cell for this question."
   ]
  },
  {
   "cell_type": "code",
   "execution_count": 6,
   "metadata": {},
   "outputs": [
    {
     "data": {
      "text/html": [
       "<div>\n",
       "<style scoped>\n",
       "    .dataframe tbody tr th:only-of-type {\n",
       "        vertical-align: middle;\n",
       "    }\n",
       "\n",
       "    .dataframe tbody tr th {\n",
       "        vertical-align: top;\n",
       "    }\n",
       "\n",
       "    .dataframe thead th {\n",
       "        text-align: right;\n",
       "    }\n",
       "</style>\n",
       "<table border=\"1\" class=\"dataframe\">\n",
       "  <thead>\n",
       "    <tr style=\"text-align: right;\">\n",
       "      <th></th>\n",
       "      <th>state</th>\n",
       "      <th>d_percent</th>\n",
       "      <th>r_percent</th>\n",
       "      <th>ec_weight</th>\n",
       "    </tr>\n",
       "  </thead>\n",
       "  <tbody>\n",
       "    <tr>\n",
       "      <th>0</th>\n",
       "      <td>alabama</td>\n",
       "      <td>37</td>\n",
       "      <td>62</td>\n",
       "      <td>9</td>\n",
       "    </tr>\n",
       "    <tr>\n",
       "      <th>1</th>\n",
       "      <td>alaska</td>\n",
       "      <td>44</td>\n",
       "      <td>55</td>\n",
       "      <td>3</td>\n",
       "    </tr>\n",
       "    <tr>\n",
       "      <th>2</th>\n",
       "      <td>arizona</td>\n",
       "      <td>50</td>\n",
       "      <td>49</td>\n",
       "      <td>11</td>\n",
       "    </tr>\n",
       "    <tr>\n",
       "      <th>3</th>\n",
       "      <td>arkansas</td>\n",
       "      <td>35</td>\n",
       "      <td>64</td>\n",
       "      <td>6</td>\n",
       "    </tr>\n",
       "    <tr>\n",
       "      <th>4</th>\n",
       "      <td>california</td>\n",
       "      <td>64</td>\n",
       "      <td>35</td>\n",
       "      <td>55</td>\n",
       "    </tr>\n",
       "  </tbody>\n",
       "</table>\n",
       "</div>"
      ],
      "text/plain": [
       "        state  d_percent  r_percent  ec_weight\n",
       "0     alabama         37         62          9\n",
       "1      alaska         44         55          3\n",
       "2     arizona         50         49         11\n",
       "3    arkansas         35         64          6\n",
       "4  california         64         35         55"
      ]
     },
     "execution_count": 6,
     "metadata": {},
     "output_type": "execute_result"
    }
   ],
   "source": [
    "import pandas as pd\n",
    "polls = pd.read_csv(\"polls.csv\")\n",
    "polls.head()"
   ]
  },
  {
   "cell_type": "code",
   "execution_count": 7,
   "metadata": {
    "otter": {
     "tests": [
      "q6"
     ]
    },
    "tags": []
   },
   "outputs": [],
   "source": [
    "q6_1 = [9160, 664, 176]\n",
    "q6_5 = [8209, 1693, 98]\n",
    "q6_10 = [7456, 2464, 80]"
   ]
  },
  {
   "cell_type": "markdown",
   "metadata": {
    "deletable": false,
    "editable": false
   },
   "source": [
    "<!-- BEGIN QUESTION -->\n",
    "\n",
    "#### Copy and paste your code in the cell below inside triple quotes ''' ..code.. '''"
   ]
  },
  {
   "cell_type": "markdown",
   "metadata": {},
   "source": [
    "'''\n",
    "import numpy as np\n",
    "\n",
    "def electoral_college_winner(df):\n",
    "    d_votes = df[df['d_percent'] > df['r_percent']]['ec_weight'].sum()\n",
    "    r_votes = df[df['r_percent'] > df['d_percent']]['ec_weight'].sum()\n",
    "    if d_votes >= 270:\n",
    "        return \"D\"\n",
    "    elif r_votes >= 270:\n",
    "        return \"R\"\n",
    "    else:\n",
    "        return \"U\"\n",
    "\n",
    "def simulate_election(polls, sigma):\n",
    "    noise = np.random.normal(0, sigma, size=len(polls))\n",
    "    polls_sim = polls.copy()\n",
    "    polls_sim['d_percent'] += noise\n",
    "    polls_sim['r_percent'] -= noise\n",
    "    return electoral_college_winner(polls_sim)\n",
    "\n",
    "def run_simulations(polls, sigma, n_simulations=10000):\n",
    "    results = [simulate_election(polls, sigma) for _ in range(n_simulations)]\n",
    "    return [results.count(\"D\"), results.count(\"R\"), results.count(\"U\")]\n",
    "\n",
    "q6_1 = run_simulations(polls, 1)\n",
    "q6_5 = run_simulations(polls, 5)\n",
    "q6_10 = run_simulations(polls, 10)\n",
    "\n",
    "print(q6_1)\n",
    "print(q6_5)\n",
    "print(q6_10)\n",
    "'''"
   ]
  },
  {
   "cell_type": "markdown",
   "metadata": {
    "deletable": false,
    "editable": false,
    "otter": {
     "tests": [
      "check_bad_variable_names"
     ]
    }
   },
   "source": [
    "<!-- END QUESTION -->\n",
    "\n",
    "## Submitting\n",
    "\n",
    "For the last question, make sure you are using a `for` loop only for the 10,000 simulations. Do not use a `for` loop to iterate over the dataframe.\n",
    "\n",
    "You should make sure any code that you write to answer the questions is included in this notebook.  You are **required** to go to the Kernel option and choose **\"Restart & Run All\"** before submission. Double check that your entire notebook runs correctly and generates the expected output. Finally, make sure to save your work (timestamp at the top tells you the last checkpoint and whether there are unsaved changes). When you finish, submit your assignment at Gradescope. **Submissions not prepared correctly as above will lose points.**"
   ]
  }
 ],
 "metadata": {
  "kernelspec": {
   "display_name": "Python 3 (ipykernel)",
   "language": "python",
   "name": "python3"
  },
  "language_info": {
   "codemirror_mode": {
    "name": "ipython",
    "version": 3
   },
   "file_extension": ".py",
   "mimetype": "text/x-python",
   "name": "python",
   "nbconvert_exporter": "python",
   "pygments_lexer": "ipython3",
   "version": "3.11.4"
  },
  "otter": {
   "OK_FORMAT": true,
   "tests": {
    "check_bad_variable_names": {
     "name": "check_bad_variable_names",
     "points": [
      0.5
     ],
     "suites": [
      {
       "cases": [
        {
         "code": ">>> from auto_checks import get_default_type_definitions\n>>> types_to_check = {'int': int, 'float': float, 'complex': complex, 'str': str, 'bytes': bytes, 'bytearray': bytearray, 'list': list, 'tuple': tuple, 'range': range, 'dict': dict, 'set': set, 'frozenset': frozenset, 'bool': bool, 'NoneType': type(None), 'Ellipsis': type(Ellipsis), 'NotImplemented': type(NotImplemented), 'slice': slice, 'memoryview': memoryview, 'classmethod': classmethod, 'staticmethod': staticmethod, 'property': property, 'object': object}\n>>> def are_types_overwritten(types_to_check):\n...     \"\"\"\n...     Joseph Scarpa, 02-24-2024\n...     \n...     Checks if built-in types are overwritten by custom definitions.\n...     - types_to_check: A dictionary mapping from type names (as strings) to the custom types defined in the student notebook.\n...     \n...     Returns:\n...     - Boolean indicating whether the built-in types are overridden or not.\n...     \"\"\"\n...     built_in_types = get_default_type_definitions()\n...     for type_name, type_val in types_to_check.items():\n...         if built_in_types.get(type_name) is not type_val:\n...             msg = f'NOT YET: It looks like you have created a variable called {type_name}. '\n...             msg += 'This is a reserved keyword in Python. Use a different variable name.'\n...             print(msg)\n...             return False\n...     return True\n>>> are_types_overwritten(types_to_check)\nTrue",
         "hidden": false,
         "locked": false
        }
       ],
       "scored": true,
       "setup": "",
       "teardown": "",
       "type": "doctest"
      }
     ]
    },
    "q1": {
     "name": "q1",
     "points": [
      0.5,
      0.5,
      1,
      0.5,
      0.5,
      1,
      0.5,
      0.5,
      1,
      0.5,
      0.5,
      1,
      0.5,
      0.5,
      1
     ],
     "suites": [
      {
       "cases": [
        {
         "code": ">>> isinstance(q1_1, float)\nTrue",
         "hidden": false,
         "locked": false
        },
        {
         "code": ">>> 0 < q1_1 < 1\nTrue",
         "hidden": false,
         "locked": false
        },
        {
         "code": ">>> from auto_checks import check_q1_1\n>>> check_q1_1(q1_1)\n'PASS'",
         "hidden": false,
         "locked": false
        },
        {
         "code": ">>> isinstance(q1_2, float)\nTrue",
         "hidden": false,
         "locked": false
        },
        {
         "code": ">>> 0 < q1_2 < 1\nTrue",
         "hidden": false,
         "locked": false
        },
        {
         "code": ">>> from auto_checks import check_q1_2\n>>> check_q1_2(q1_2)\n'PASS'",
         "hidden": false,
         "locked": false
        },
        {
         "code": ">>> isinstance(q1_3, float)\nTrue",
         "hidden": false,
         "locked": false
        },
        {
         "code": ">>> 0 < q1_3 < 1\nTrue",
         "hidden": false,
         "locked": false
        },
        {
         "code": ">>> from auto_checks import check_q1_3\n>>> check_q1_3(q1_3)\n'PASS'",
         "hidden": false,
         "locked": false
        },
        {
         "code": ">>> isinstance(q1_4, float)\nTrue",
         "hidden": false,
         "locked": false
        },
        {
         "code": ">>> 0 < q1_4 < 1\nTrue",
         "hidden": false,
         "locked": false
        },
        {
         "code": ">>> from auto_checks import check_q1_4\n>>> check_q1_4(q1_4)\n'PASS'",
         "hidden": false,
         "locked": false
        },
        {
         "code": ">>> isinstance(q1_5, float)\nTrue",
         "hidden": false,
         "locked": false
        },
        {
         "code": ">>> 0 < q1_5 < 1\nTrue",
         "hidden": false,
         "locked": false
        },
        {
         "code": ">>> from auto_checks import check_q1_5\n>>> check_q1_5(q1_5)\n'PASS'",
         "hidden": false,
         "locked": false
        }
       ],
       "scored": true,
       "setup": "",
       "teardown": "",
       "type": "doctest"
      }
     ]
    },
    "q2": {
     "name": "q2",
     "points": [
      0.5,
      0.5,
      1,
      0.5,
      0.5,
      1,
      0.5,
      0.5,
      1
     ],
     "suites": [
      {
       "cases": [
        {
         "code": ">>> isinstance(q2_1, float)\nTrue",
         "hidden": false,
         "locked": false
        },
        {
         "code": ">>> 0 < q2_1 < 1\nTrue",
         "hidden": false,
         "locked": false
        },
        {
         "code": ">>> from auto_checks import check_q2_1\n>>> check_q2_1(q2_1)\n'PASS'",
         "hidden": false,
         "locked": false
        },
        {
         "code": ">>> isinstance(q2_2, float)\nTrue",
         "hidden": false,
         "locked": false
        },
        {
         "code": ">>> 0 < q2_2 < 1\nTrue",
         "hidden": false,
         "locked": false
        },
        {
         "code": ">>> from auto_checks import check_q2_2\n>>> check_q2_2(q2_2)\n'PASS'",
         "hidden": false,
         "locked": false
        },
        {
         "code": ">>> isinstance(q2_3, float)\nTrue",
         "hidden": false,
         "locked": false
        },
        {
         "code": ">>> 0 < q2_3 < 1\nTrue",
         "hidden": false,
         "locked": false
        },
        {
         "code": ">>> from auto_checks import check_q2_3\n>>> check_q2_3(q2_3)\n'PASS'",
         "hidden": false,
         "locked": false
        }
       ],
       "scored": true,
       "setup": "",
       "teardown": "",
       "type": "doctest"
      }
     ]
    },
    "q3": {
     "name": "q3",
     "points": [
      1,
      1,
      1,
      1
     ],
     "suites": [
      {
       "cases": [
        {
         "code": ">>> isinstance(q3_1, float)\nTrue",
         "hidden": false,
         "locked": false
        },
        {
         "code": ">>> from auto_checks import check_q3_1\n>>> check_q3_1(q3_1)\n'PASS'",
         "hidden": false,
         "locked": false
        },
        {
         "code": ">>> isinstance(q3_2, float)\nTrue",
         "hidden": false,
         "locked": false
        },
        {
         "code": ">>> from auto_checks import check_q3_2\n>>> check_q3_2(q3_2)\n'PASS'",
         "hidden": false,
         "locked": false
        }
       ],
       "scored": true,
       "setup": "",
       "teardown": "",
       "type": "doctest"
      }
     ]
    },
    "q4": {
     "name": "q4",
     "points": [
      0.5,
      0.5,
      1
     ],
     "suites": [
      {
       "cases": [
        {
         "code": ">>> isinstance(q4, int) or isinstance(q4, np.int64) or isinstance(q4, float) or isinstance(q4, np.float64)\nTrue",
         "hidden": false,
         "locked": false
        },
        {
         "code": ">>> q4 > 0\nTrue",
         "hidden": false,
         "locked": false
        },
        {
         "code": ">>> from auto_checks import check_q4\n>>> check_q4(q4)\n'PASS'",
         "hidden": false,
         "locked": false
        }
       ],
       "scored": true,
       "setup": "",
       "teardown": "",
       "type": "doctest"
      }
     ]
    },
    "q5": {
     "name": "q5",
     "points": [
      1,
      1
     ],
     "suites": [
      {
       "cases": [
        {
         "code": ">>> isinstance(q5, float)\nTrue",
         "hidden": false,
         "locked": false
        },
        {
         "code": ">>> from auto_checks import check_q5\n>>> check_q5(q5)\n'PASS'",
         "hidden": false,
         "locked": false
        }
       ],
       "scored": true,
       "setup": "",
       "teardown": "",
       "type": "doctest"
      }
     ]
    },
    "q6": {
     "name": "q6",
     "points": [
      0.5,
      0.5,
      1
     ],
     "suites": [
      {
       "cases": [
        {
         "code": ">>> set([isinstance(x, list) for x in [q6_1, q6_5, q6_10]]) == {True}\nTrue",
         "hidden": false,
         "locked": false
        },
        {
         "code": ">>> sum(q6_1) == sum(q6_5) == sum(q6_10) == 10000\nTrue",
         "hidden": false,
         "locked": false
        },
        {
         "code": ">>> from auto_checks import check_q6_order\n>>> check_q6_order(q6_1, q6_5, q6_10)\n'PASS'",
         "hidden": false,
         "locked": false
        }
       ],
       "scored": true,
       "setup": "",
       "teardown": "",
       "type": "doctest"
      }
     ]
    }
   }
  }
 },
 "nbformat": 4,
 "nbformat_minor": 4
}
